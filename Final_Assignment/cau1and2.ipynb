{
 "cells": [
  {
   "attachments": {},
   "cell_type": "markdown",
   "metadata": {},
   "source": [
    "# Câu 1 :"
   ]
  },
  {
   "cell_type": "code",
   "execution_count": 1,
   "metadata": {},
   "outputs": [
    {
     "name": "stdout",
     "output_type": "stream",
     "text": [
      "Tiền chờ: 750\n",
      "Tiền di chuyển: 494200.0\n",
      "Tiền cước: 494950.0\n"
     ]
    }
   ],
   "source": [
    "def tinh_cuoc_taxi(loai_xe, so_km, thoi_gian_cho):\n",
    "    if loai_xe == 4:\n",
    "        gia_mo_cua = 11000\n",
    "        gia_30km = 15300\n",
    "        gia_tu_31km = 12100\n",
    "    elif loai_xe == 7:\n",
    "        gia_mo_cua = 12000\n",
    "        gia_30km = 16100\n",
    "        gia_tu_31km = 13800\n",
    "    else:\n",
    "        print(\"Loại xe không hợp lệ\")\n",
    "        return\n",
    "\n",
    "    tien_cho = max(0, thoi_gian_cho - 5) * 750\n",
    "    tien_di_chuyen = 0\n",
    "\n",
    "    if so_km <= 0.8:\n",
    "        tien_di_chuyen = gia_mo_cua\n",
    "    elif so_km <= 30:\n",
    "        tien_di_chuyen = gia_mo_cua + gia_30km * (so_km - 0.8)\n",
    "    else:\n",
    "        tien_di_chuyen = gia_mo_cua + gia_30km * 30 + gia_tu_31km * (so_km - 30)\n",
    "\n",
    "    tien_cuoc = tien_cho + tien_di_chuyen\n",
    "\n",
    "    print(\"Tiền chờ:\", tien_cho)\n",
    "    print(\"Tiền di chuyển:\", tien_di_chuyen)\n",
    "    print(\"Tiền cước:\", tien_cuoc)\n",
    "\n",
    "\n",
    "\n",
    "loai_xe = int(input(\"Nhập loại xe (4 hoặc 7): \"))\n",
    "so_km = float(input(\"Nhập số km: \"))\n",
    "thoi_gian_cho = int(input(\"Nhập thời gian chờ (phút): \"))\n",
    "\n",
    "\n",
    "tinh_cuoc_taxi(loai_xe, so_km, thoi_gian_cho)\n"
   ]
  },
  {
   "attachments": {},
   "cell_type": "markdown",
   "metadata": {},
   "source": [
    "# Câu 2 :"
   ]
  },
  {
   "cell_type": "code",
   "execution_count": 4,
   "metadata": {},
   "outputs": [
    {
     "name": "stdout",
     "output_type": "stream",
     "text": [
      "Chuỗi người dùng : Chu Ba Tuan\n",
      "Số ký tự hoa trong chuỗi: 3\n",
      "Số ký tự thường trong chuỗi: 6\n"
     ]
    }
   ],
   "source": [
    "def dem_ly_tu_hoa_thuong(chuoi):\n",
    "    so_ky_tu_hoa = 0\n",
    "    so_ky_tu_thuong = 0\n",
    "\n",
    "    for ky_tu in chuoi:\n",
    "        if ky_tu.isupper():\n",
    "            so_ky_tu_hoa += 1\n",
    "        elif ky_tu.islower():\n",
    "            so_ky_tu_thuong += 1\n",
    "\n",
    "    return so_ky_tu_hoa, so_ky_tu_thuong\n",
    "\n",
    "\n",
    "\n",
    "chuoi = input(\"Nhập vào một chuỗi: \")\n",
    "\n",
    "\n",
    "so_ky_tu_hoa, so_ky_tu_thuong = dem_ly_tu_hoa_thuong(chuoi)\n",
    "\n",
    "\n",
    "print(\"Chuỗi người dùng :\",chuoi)\n",
    "print(\"Số ký tự hoa trong chuỗi:\", so_ky_tu_hoa)\n",
    "print(\"Số ký tự thường trong chuỗi:\", so_ky_tu_thuong)\n"
   ]
  },
  {
   "attachments": {},
   "cell_type": "markdown",
   "metadata": {},
   "source": [
    "# Câu 3:\n"
   ]
  },
  {
   "cell_type": "code",
   "execution_count": null,
   "metadata": {},
   "outputs": [],
   "source": [
    " \n",
    "\n",
    " "
   ]
  }
 ],
 "metadata": {
  "kernelspec": {
   "display_name": "tuan",
   "language": "python",
   "name": "python3"
  },
  "language_info": {
   "codemirror_mode": {
    "name": "ipython",
    "version": 3
   },
   "file_extension": ".py",
   "mimetype": "text/x-python",
   "name": "python",
   "nbconvert_exporter": "python",
   "pygments_lexer": "ipython3",
   "version": "3.10.11"
  },
  "orig_nbformat": 4
 },
 "nbformat": 4,
 "nbformat_minor": 2
}
